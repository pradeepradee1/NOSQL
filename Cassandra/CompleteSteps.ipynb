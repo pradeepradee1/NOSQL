{
 "cells": [
  {
   "cell_type": "code",
   "execution_count": 1,
   "id": "b48fa93c",
   "metadata": {},
   "outputs": [],
   "source": [
    "#https://auth.cloud.datastax.com/auth/realms/CloudUsers/login-actions/authenticate?client_id=auth-proxy&tab_id=Ahd63N4q89c\n",
    "# Here Platform for Cassandra DB"
   ]
  },
  {
   "cell_type": "code",
   "execution_count": 2,
   "id": "87b4eb77",
   "metadata": {},
   "outputs": [
    {
     "name": "stdout",
     "output_type": "stream",
     "text": [
      "Collecting cassandra-driver\n",
      "  Downloading cassandra_driver-3.25.0-cp38-cp38-manylinux1_x86_64.whl (3.6 MB)\n",
      "\u001b[K     |████████████████████████████████| 3.6 MB 932 kB/s eta 0:00:01\n",
      "\u001b[?25hRequirement already satisfied: six>=1.9 in /home/pradeep.k@zucisystems.com/workspace_working_Repo/ML/envname/lib/python3.8/site-packages (from cassandra-driver) (1.16.0)\n",
      "Collecting geomet<0.3,>=0.1\n",
      "  Downloading geomet-0.2.1.post1-py3-none-any.whl (18 kB)\n",
      "Collecting click\n",
      "  Using cached click-8.1.3-py3-none-any.whl (96 kB)\n",
      "Installing collected packages: click, geomet, cassandra-driver\n",
      "Successfully installed cassandra-driver-3.25.0 click-8.1.3 geomet-0.2.1.post1\n"
     ]
    }
   ],
   "source": [
    "!pip install cassandra-driver"
   ]
  },
  {
   "cell_type": "code",
   "execution_count": 3,
   "id": "ac7c7266",
   "metadata": {},
   "outputs": [
    {
     "name": "stdout",
     "output_type": "stream",
     "text": [
      "3.25.0\n"
     ]
    }
   ],
   "source": [
    "import cassandra\n",
    "print(cassandra.__version__)"
   ]
  },
  {
   "cell_type": "code",
   "execution_count": 5,
   "id": "f3ab2210",
   "metadata": {},
   "outputs": [
    {
     "name": "stdout",
     "output_type": "stream",
     "text": [
      "4.0.0.6816\n"
     ]
    }
   ],
   "source": [
    "from cassandra.cluster import Cluster\n",
    "from cassandra.auth import PlainTextAuthProvider\n",
    "\n",
    "cloud_config= {\n",
    "         'secure_connect_bundle': '/home/pradeep.k@zucisystems.com/workspace_working_Repo/NOSQL/secure-connect-test.zip'\n",
    "}\n",
    "auth_provider = PlainTextAuthProvider('QEFrSwfzrRcSaEvtgpKzRUIm', 'XjUwaFff-,ytTD.JK-WPc8WkYYAKr4AYAZmkZWt4n716vYPxk3w.xF1U5m7v7_XeE1v.Dyqj5U1W6IoDIOj4WBQiLF5eAc1+,BnaYv3AL4xk9n,l7howtraTejPwNfHD')\n",
    "cluster = Cluster(cloud=cloud_config, auth_provider=auth_provider)\n",
    "session = cluster.connect()\n",
    "\n",
    "result = session.execute(\"select release_version from system.local\")\n",
    "\n",
    "row = result.one()\n",
    "\n",
    "# print(row)\n",
    "if row:\n",
    "      print(row[0])\n",
    "else:\n",
    "      print(\"An error occurred.\")\n"
   ]
  },
  {
   "cell_type": "code",
   "execution_count": 7,
   "id": "6af78e20",
   "metadata": {},
   "outputs": [
    {
     "name": "stdout",
     "output_type": "stream",
     "text": [
      "Exception Occured while creating Keyspace :  Error from server: code=2100 [Unauthorized] message=\"Missing correct permission on test_keyspace.: Keyspace management is currently only supported at https://astra.datastax.com/org/69408cdd-adbb-4871-87f5-cd7af9bb635c/database/fec51bae-192f-4a8d-8064-b8a698f269d4\"\n"
     ]
    }
   ],
   "source": [
    "# Command to create keyspace in Cassandra\n",
    "try:\n",
    "    query = \"create keyspace test_keyspace with replication = {'class' : 'SimpleStrategy', 'replication_factor' : 3}\"\n",
    "    session.execute(query)\n",
    "    print(\"Keyspace Created Successfully !!\")\n",
    "except Exception as err:\n",
    "    print(\"Exception Occured while creating Keyspace : \",err)\n",
    "\n",
    "#Note: Keyspace like DataBase"
   ]
  },
  {
   "cell_type": "code",
   "execution_count": null,
   "id": "56399596",
   "metadata": {},
   "outputs": [],
   "source": [
    "# Command to Alter the keyspace in Cassandra\n",
    "try:\n",
    "    query = \"alter keyspace employee_management with replication = {'class' : 'SimpleStrategy', 'replication_factor' : 2}\"\n",
    "    session.execute(query)\n",
    "    print(\"Keyspace Altered Successfully !!\")\n",
    "except Exception as err:\n",
    "    print(\"Exception Occured while altering Keyspace : \",err)"
   ]
  },
  {
   "cell_type": "code",
   "execution_count": null,
   "id": "bbd18dde",
   "metadata": {},
   "outputs": [],
   "source": [
    "# Command to Drop the keyspace in Cassandra\n",
    "try:\n",
    "    query = \"drop keyspace employee_management\"\n",
    "    session.execute(query)\n",
    "    print(\"Keyspace Dropped Successfully !!\")\n",
    "except Exception as err:\n",
    "    print(\"Exception Occured while dropping the Keyspace : \",err)"
   ]
  },
  {
   "cell_type": "code",
   "execution_count": 11,
   "id": "3a8f98e1",
   "metadata": {},
   "outputs": [
    {
     "name": "stdout",
     "output_type": "stream",
     "text": [
      "Used test_keyspace Succesfully\n"
     ]
    }
   ],
   "source": [
    "# Command to Use the keyspace\n",
    "try:\n",
    "    query = \"use test_keyspace\"\n",
    "    session.execute(query)\n",
    "    print(\"Used test_keyspace Succesfully\")\n",
    "except Exception as err:\n",
    "    print(\"Exception Occured while creating Keyspace : \",err)"
   ]
  },
  {
   "cell_type": "code",
   "execution_count": 28,
   "id": "138419c9",
   "metadata": {},
   "outputs": [
    {
     "name": "stdout",
     "output_type": "stream",
     "text": [
      "Exception Occured while creating the table :  Table 'test_keyspace.employee' already exists\n"
     ]
    }
   ],
   "source": [
    "# Command to create a table inside a KEyspace\n",
    "try:\n",
    "    query = \"\"\"create table employee(\n",
    "                emp_id int,\n",
    "                emp_name varchar,\n",
    "                emp_salary int,\n",
    "                emp_dept varchar,\n",
    "                emp_email varchar,\n",
    "                emp_phone varchar,\n",
    "                primary key (emp_id, emp_dept)\n",
    "              )\n",
    "            \"\"\"\n",
    "    session.execute(query)\n",
    "    print(\"Table created inside the keyspace\")\n",
    "except Exception as err:\n",
    "    print(\"Exception Occured while creating the table : \",err)\n",
    "    \n",
    "#Note : \n",
    "# emp_id = Partition Key\n",
    "# emp_dept = Clustering Key"
   ]
  },
  {
   "cell_type": "code",
   "execution_count": 13,
   "id": "43080db1",
   "metadata": {},
   "outputs": [
    {
     "name": "stdout",
     "output_type": "stream",
     "text": [
      "Column dropped successfully !!\n"
     ]
    }
   ],
   "source": [
    "# Alter the table in cassandra to drop a column\n",
    "try:\n",
    "    query = \"alter table employee drop emp_email\"\n",
    "    session.execute(query)\n",
    "    print(\"Column dropped successfully !!\")\n",
    "except Exception as err:\n",
    "    print(\"Exception Occured while dropping the column: \",err)"
   ]
  },
  {
   "cell_type": "code",
   "execution_count": 38,
   "id": "1f94e5a7",
   "metadata": {},
   "outputs": [
    {
     "name": "stdout",
     "output_type": "stream",
     "text": [
      "Table dropped successfully !!\n"
     ]
    }
   ],
   "source": [
    "# Drop a table in cassandra\n",
    "try:\n",
    "    query = \"drop table employee\"\n",
    "    session.execute(query)\n",
    "    print(\"Table dropped successfully !!\")\n",
    "except Exception as err:\n",
    "    print(\"Exception Occured while dropping the table: \",err)"
   ]
  },
  {
   "cell_type": "code",
   "execution_count": 17,
   "id": "d1b47b71",
   "metadata": {},
   "outputs": [
    {
     "name": "stdout",
     "output_type": "stream",
     "text": [
      "Record inserted successfully !!\n"
     ]
    }
   ],
   "source": [
    "# Insert data into cassandra table\n",
    "try:\n",
    "    query = \"insert into employee(emp_id, emp_name, emp_salary, emp_dept, emp_email, emp_phone) values(1, 'Shashank', 10000, 'Software', 'abc.gmail.com','+91 768467474')\"\n",
    "    session.execute(query)\n",
    "    print(\"Record inserted successfully !!\")\n",
    "except Exception as err:\n",
    "    print(\"Exception Occured while inserting the data into table: \",err)"
   ]
  },
  {
   "cell_type": "code",
   "execution_count": 18,
   "id": "16f964a0",
   "metadata": {},
   "outputs": [
    {
     "name": "stdout",
     "output_type": "stream",
     "text": [
      "Record inserted successfully !!\n"
     ]
    }
   ],
   "source": [
    "# Insert data into cassandra table\n",
    "try:\n",
    "    query = \"insert into employee(emp_id, emp_name, emp_salary, emp_dept, emp_email, emp_phone) values(2, 'Rahul', 20000, 'IT', 'xyx.gmail.com','+91 908467474')\"\n",
    "    session.execute(query)\n",
    "    print(\"Record inserted successfully !!\")\n",
    "except Exception as err:\n",
    "    print(\"Exception Occured while inserting the data into table: \",err)"
   ]
  },
  {
   "cell_type": "code",
   "execution_count": 20,
   "id": "5c6024fc",
   "metadata": {},
   "outputs": [
    {
     "name": "stdout",
     "output_type": "stream",
     "text": [
      "Record inserted successfully !!\n"
     ]
    }
   ],
   "source": [
    "# Insert data into cassandra table\n",
    "try:\n",
    "    query = \"insert into employee(emp_id, emp_name, emp_salary, emp_dept, emp_email, emp_phone) values(3, 'Sunny', 22000, 'HR', 'klm.gmail.com','+91 800067474')\"\n",
    "    session.execute(query)\n",
    "    print(\"Record inserted successfully !!\")\n",
    "except Exception as err:\n",
    "    print(\"Exception Occured while inserting the data into table: \",err)"
   ]
  },
  {
   "cell_type": "code",
   "execution_count": 21,
   "id": "cf948266",
   "metadata": {},
   "outputs": [
    {
     "name": "stdout",
     "output_type": "stream",
     "text": [
      "Record inserted successfully !!\n"
     ]
    }
   ],
   "source": [
    "# Insert data into cassandra table\n",
    "try:\n",
    "    query = \"insert into employee(emp_id, emp_name, emp_salary, emp_dept, emp_email, emp_phone) values(4, 'Vishal', 30000, 'Software', 'mno.gmail.com','+91 600467474')\"\n",
    "    session.execute(query)\n",
    "    print(\"Record inserted successfully !!\")\n",
    "except Exception as err:\n",
    "    print(\"Exception Occured while inserting the data into table: \",err)"
   ]
  },
  {
   "cell_type": "code",
   "execution_count": 22,
   "id": "f9501bcc",
   "metadata": {},
   "outputs": [
    {
     "name": "stdout",
     "output_type": "stream",
     "text": [
      "Row(emp_id=1, emp_dept='Software', emp_email='abc.gmail.com', emp_name='Shashank', emp_phone='+91 768467474', emp_salary=10000)\n",
      "Row(emp_id=2, emp_dept='IT', emp_email='xyx.gmail.com', emp_name='Rahul', emp_phone='+91 908467474', emp_salary=20000)\n",
      "Row(emp_id=4, emp_dept='Software', emp_email='mno.gmail.com', emp_name='Vishal', emp_phone='+91 600467474', emp_salary=30000)\n",
      "Row(emp_id=3, emp_dept='HR', emp_email='klm.gmail.com', emp_name='Sunny', emp_phone='+91 800067474', emp_salary=22000)\n"
     ]
    }
   ],
   "source": [
    "# Select query on cassandra table\n",
    "try:\n",
    "    query = \"select * from employee\"\n",
    "    result = session.execute(query)\n",
    "    for row in result:\n",
    "        print(row)\n",
    "except Exception as err:\n",
    "    print(\"Exception Occured while selecting the data from table: \",err)"
   ]
  },
  {
   "cell_type": "code",
   "execution_count": 23,
   "id": "b119ab56",
   "metadata": {},
   "outputs": [
    {
     "name": "stdout",
     "output_type": "stream",
     "text": [
      "Row(emp_id=1, emp_name='Shashank')\n",
      "Row(emp_id=2, emp_name='Rahul')\n",
      "Row(emp_id=4, emp_name='Vishal')\n",
      "Row(emp_id=3, emp_name='Sunny')\n"
     ]
    }
   ],
   "source": [
    "# Select query for specific columns in cassandra table\n",
    "try:\n",
    "    query = \"select emp_id, emp_name from employee\"\n",
    "    result = session.execute(query)\n",
    "    for row in result:\n",
    "        print(row)\n",
    "except Exception as err:\n",
    "    print(\"Exception Occured while selecting the data from table: \",err)"
   ]
  },
  {
   "cell_type": "code",
   "execution_count": 24,
   "id": "a9d0e3e8",
   "metadata": {},
   "outputs": [
    {
     "name": "stdout",
     "output_type": "stream",
     "text": [
      "Emp ID :  1\n",
      "Emp Name :  Shashank\n",
      "Emp ID :  2\n",
      "Emp Name :  Rahul\n",
      "Emp ID :  4\n",
      "Emp Name :  Vishal\n",
      "Emp ID :  3\n",
      "Emp Name :  Sunny\n"
     ]
    }
   ],
   "source": [
    "# Select query for specific columns in cassandra table and how to access from Row object\n",
    "try:\n",
    "    query = \"select emp_id, emp_name from employee\"\n",
    "    result = session.execute(query)\n",
    "    # option 1\n",
    "    for row in result:\n",
    "        print(\"Emp ID : \", row[0])\n",
    "        print(\"Emp Name : \", row[1])\n",
    "except Exception as err:\n",
    "    print(\"Exception Occured while selecting the data from table: \",err)"
   ]
  },
  {
   "cell_type": "code",
   "execution_count": 25,
   "id": "030c3a49",
   "metadata": {},
   "outputs": [
    {
     "name": "stdout",
     "output_type": "stream",
     "text": [
      "Exception Occured while selecting the data from table:  tuple indices must be integers or slices, not str\n"
     ]
    }
   ],
   "source": [
    "# Select query for specific columns in cassandra table and how to access from Row object\n",
    "# Doesn't work\n",
    "try:\n",
    "    query = \"select emp_id, emp_name from employee\"\n",
    "    result = session.execute(query)\n",
    "    # option 2\n",
    "    for row in result:\n",
    "        print(\"Emp ID : \", row['emp_id'])\n",
    "        print(\"Emp Name : \", row['emp_name'])\n",
    "except Exception as err:\n",
    "    print(\"Exception Occured while selecting the data from table: \",err)"
   ]
  },
  {
   "cell_type": "code",
   "execution_count": 29,
   "id": "36398fe5",
   "metadata": {},
   "outputs": [
    {
     "name": "stdout",
     "output_type": "stream",
     "text": [
      "Row(count=4)\n",
      "4\n"
     ]
    }
   ],
   "source": [
    "# Write a query to get total count of employees\n",
    "try:\n",
    "    query = \"select count(*) from employee\"\n",
    "    result = session.execute(query)\n",
    "    row = result.one()\n",
    "    print(row)\n",
    "    print(row[0])\n",
    "except Exception as err:\n",
    "    print(\"Exception Occured while selecting the data from table: \",err)"
   ]
  },
  {
   "cell_type": "code",
   "execution_count": 30,
   "id": "d7751617",
   "metadata": {},
   "outputs": [
    {
     "name": "stdout",
     "output_type": "stream",
     "text": [
      "Row(system_max_emp_salary=30000)\n",
      "30000\n"
     ]
    }
   ],
   "source": [
    "# Write a query to find maximum salary from employee table\n",
    "try:\n",
    "    query = \"select max(emp_salary) from employee\"\n",
    "    result = session.execute(query)\n",
    "    row = result.one()\n",
    "    print(row)\n",
    "    print(row[0])\n",
    "except Exception as err:\n",
    "    print(\"Exception Occured while selecting the data from table: \",err)"
   ]
  },
  {
   "cell_type": "code",
   "execution_count": 31,
   "id": "a4031405",
   "metadata": {},
   "outputs": [
    {
     "name": "stdout",
     "output_type": "stream",
     "text": [
      "Row(emp_id=1, emp_dept='Software', emp_email='abc.gmail.com', emp_name='Shashank', emp_phone='+91 768467474', emp_salary=10000)\n"
     ]
    }
   ],
   "source": [
    "# Write a query to filter data from cassandra table or how to use where clause\n",
    "# Rules for where clause - It can be used effectively with high performance for given below type of columns\n",
    "# 1.) Partition Key (Single or Composite)\n",
    "                   #OR\n",
    "# 2.) if Cluster column  used in where clause then it should be with Partition Key\n",
    "                   #OR\n",
    "# 3.) A column on which we have applied the index\n",
    "                   #OR\n",
    "# 4.) A column which is not part of partition key or index column or clustering column then we can use where clause but we have to\n",
    "# use keyword ALLOW FILTERING - it will be a super slow performance when data volume is very high\n",
    "\n",
    "try:\n",
    "    query = \"select * from employee where emp_name='Shashank' ALLOW FILTERING\"\n",
    "    result = session.execute(query)\n",
    "    row = result.one()\n",
    "    print(row)\n",
    "except Exception as err:\n",
    "    print(\"Exception Occured while selecting the data from table: \",err)"
   ]
  },
  {
   "cell_type": "code",
   "execution_count": 32,
   "id": "b80c415f",
   "metadata": {},
   "outputs": [
    {
     "name": "stdout",
     "output_type": "stream",
     "text": [
      "Row(emp_id=2, emp_dept='IT', emp_email='xyx.gmail.com', emp_name='Rahul', emp_phone='+91 908467474', emp_salary=20000)\n"
     ]
    }
   ],
   "source": [
    "# where clause for Partition key only or Rule no -1\n",
    "\n",
    "try:\n",
    "    query = \"select * from employee where emp_id=2\"\n",
    "    result = session.execute(query)\n",
    "    row = result.one()\n",
    "    print(row)\n",
    "except Exception as err:\n",
    "    print(\"Exception Occured while selecting the data from table: \",err)"
   ]
  },
  {
   "cell_type": "code",
   "execution_count": 33,
   "id": "417a4c08",
   "metadata": {},
   "outputs": [
    {
     "name": "stdout",
     "output_type": "stream",
     "text": [
      "Row(emp_id=1, emp_dept='Software', emp_email='abc.gmail.com', emp_name='Shashank', emp_phone='+91 768467474', emp_salary=10000)\n"
     ]
    }
   ],
   "source": [
    "# where clause for Clustering key only or Rule no - 2 \n",
    "\n",
    "try:\n",
    "    query = \"select * from employee where emp_dept='Software' and emp_id=1\"\n",
    "    result = session.execute(query)\n",
    "    row = result.one()\n",
    "    print(row)\n",
    "except Exception as err:\n",
    "    print(\"Exception Occured while selecting the data from table: \",err)"
   ]
  },
  {
   "cell_type": "code",
   "execution_count": 35,
   "id": "fe74ce7c",
   "metadata": {},
   "outputs": [
    {
     "ename": "SyntaxError",
     "evalue": "invalid syntax (2250477427.py, line 5)",
     "output_type": "error",
     "traceback": [
      "\u001b[0;36m  Input \u001b[0;32mIn [35]\u001b[0;36m\u001b[0m\n\u001b[0;31m    select * from employee where employeeid = 'x' and dept = 'software' and fname = 'shashank'  # Wrong query\u001b[0m\n\u001b[0m             ^\u001b[0m\n\u001b[0;31mSyntaxError\u001b[0m\u001b[0;31m:\u001b[0m invalid syntax\n"
     ]
    }
   ],
   "source": [
    "# We have another composite partition key\n",
    "\n",
    "priamry key ( (employeeid, fname) , dept )\n",
    "\n",
    "select * from employee where employeeid = 'x' and dept = 'software' and fname = 'shashank'  # Wrong query\n",
    "\n",
    "select * from employee where dept = 'software' and employeeid = 'x' and fname = 'shashank'   # Correct query"
   ]
  },
  {
   "cell_type": "code",
   "execution_count": 36,
   "id": "589ebd9d",
   "metadata": {},
   "outputs": [
    {
     "name": "stdout",
     "output_type": "stream",
     "text": [
      "Row(emp_id=1, sum_salary=10000)\n"
     ]
    }
   ],
   "source": [
    "# Group by in cassandra  -  Allowed for all columns which are part of Primary Key\n",
    "# Follow given below rules\n",
    "# Rule - 1 : Use only partition key in the group by\n",
    "              #OR\n",
    "# Rule - 2 : if Cluster key column is used then follow the actual declared sequence in the primary key\n",
    "try:\n",
    "    query = \"select emp_id, sum(emp_salary) as sum_salary from employee group by emp_id\"\n",
    "    result = session.execute(query)\n",
    "    row = result.one()\n",
    "    print(row)\n",
    "except Exception as err:\n",
    "    print(\"Exception Occured while selecting the data from table: \",err)"
   ]
  },
  {
   "cell_type": "code",
   "execution_count": 37,
   "id": "a957457a",
   "metadata": {},
   "outputs": [
    {
     "name": "stdout",
     "output_type": "stream",
     "text": [
      "Row(emp_id=1, emp_dept='Software', sum_salary=10000)\n"
     ]
    }
   ],
   "source": [
    "# Group by in cassandra \n",
    "# Rule - 2 : if Cluster key column is used then follow the actual declared sequence in the primary key\n",
    "try:\n",
    "    query = \"select emp_id, emp_dept, sum(emp_salary) as sum_salary from employee group by emp_id, emp_dept\"\n",
    "    result = session.execute(query)\n",
    "    row = result.one()\n",
    "    print(row)\n",
    "except Exception as err:\n",
    "    print(\"Exception Occured while selecting the data from table: \",err)"
   ]
  },
  {
   "cell_type": "code",
   "execution_count": null,
   "id": "580b0dc3",
   "metadata": {},
   "outputs": [],
   "source": []
  }
 ],
 "metadata": {
  "kernelspec": {
   "display_name": "Python 3 (ipykernel)",
   "language": "python",
   "name": "python3"
  },
  "language_info": {
   "codemirror_mode": {
    "name": "ipython",
    "version": 3
   },
   "file_extension": ".py",
   "mimetype": "text/x-python",
   "name": "python",
   "nbconvert_exporter": "python",
   "pygments_lexer": "ipython3",
   "version": "3.8.10"
  }
 },
 "nbformat": 4,
 "nbformat_minor": 5
}
