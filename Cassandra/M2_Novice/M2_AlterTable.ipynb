{
 "cells": [
  {
   "cell_type": "code",
   "execution_count": 1,
   "id": "73f6ebe6",
   "metadata": {},
   "outputs": [
    {
     "name": "stdout",
     "output_type": "stream",
     "text": [
      "3.25.0\n"
     ]
    }
   ],
   "source": [
    "import cassandra\n",
    "print(cassandra.__version__)"
   ]
  },
  {
   "cell_type": "markdown",
   "id": "6b61705c",
   "metadata": {},
   "source": [
    "### Configuration"
   ]
  },
  {
   "cell_type": "code",
   "execution_count": 2,
   "id": "dd5c6c19",
   "metadata": {},
   "outputs": [
    {
     "name": "stdout",
     "output_type": "stream",
     "text": [
      "4.0.0.6816\n"
     ]
    }
   ],
   "source": [
    "from cassandra.cluster import Cluster\n",
    "from cassandra.auth import PlainTextAuthProvider\n",
    "\n",
    "cloud_config= {\n",
    "         'secure_connect_bundle': '/home/pradeep.k@zucisystems.com/workspace_working_Repo/NOSQL/secure-connect-test.zip'\n",
    "}\n",
    "auth_provider = PlainTextAuthProvider('QEFrSwfzrRcSaEvtgpKzRUIm', 'XjUwaFff-,ytTD.JK-WPc8WkYYAKr4AYAZmkZWt4n716vYPxk3w.xF1U5m7v7_XeE1v.Dyqj5U1W6IoDIOj4WBQiLF5eAc1+,BnaYv3AL4xk9n,l7howtraTejPwNfHD')\n",
    "cluster = Cluster(cloud=cloud_config, auth_provider=auth_provider)\n",
    "session = cluster.connect()\n",
    "\n",
    "result = session.execute(\"select release_version from system.local\")\n",
    "\n",
    "row = result.one()\n",
    "\n",
    "# print(row)\n",
    "if row:\n",
    "      print(row[0])\n",
    "else:\n",
    "      print(\"An error occurred.\")\n"
   ]
  },
  {
   "cell_type": "code",
   "execution_count": 3,
   "id": "44bbce9f",
   "metadata": {},
   "outputs": [
    {
     "name": "stdout",
     "output_type": "stream",
     "text": [
      "Used test_keyspace Succesfully\n"
     ]
    }
   ],
   "source": [
    "# Command to Use the keyspace\n",
    "try:\n",
    "    query = \"use test_keyspace\"\n",
    "    session.execute(query)\n",
    "    print(\"Used test_keyspace Succesfully\")\n",
    "except Exception as err:\n",
    "    print(\"Exception Occured while creating Keyspace : \",err)"
   ]
  },
  {
   "cell_type": "code",
   "execution_count": 4,
   "id": "1b1cab47",
   "metadata": {},
   "outputs": [
    {
     "name": "stdout",
     "output_type": "stream",
     "text": [
      "Column dropped successfully !!\n"
     ]
    }
   ],
   "source": [
    "# Alter the table in cassandra to drop a column\n",
    "try:\n",
    "    query = \"alter table employee drop emp_email\"\n",
    "    session.execute(query)\n",
    "    print(\"Column dropped successfully !!\")\n",
    "except Exception as err:\n",
    "    print(\"Exception Occured while dropping the column: \",err)"
   ]
  },
  {
   "cell_type": "code",
   "execution_count": null,
   "id": "ba3cb7de",
   "metadata": {},
   "outputs": [],
   "source": []
  }
 ],
 "metadata": {
  "kernelspec": {
   "display_name": "Python 3 (ipykernel)",
   "language": "python",
   "name": "python3"
  },
  "language_info": {
   "codemirror_mode": {
    "name": "ipython",
    "version": 3
   },
   "file_extension": ".py",
   "mimetype": "text/x-python",
   "name": "python",
   "nbconvert_exporter": "python",
   "pygments_lexer": "ipython3",
   "version": "3.8.10"
  }
 },
 "nbformat": 4,
 "nbformat_minor": 5
}
