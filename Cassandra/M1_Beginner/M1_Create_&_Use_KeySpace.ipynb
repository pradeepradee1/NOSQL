{
 "cells": [
  {
   "cell_type": "code",
   "execution_count": 1,
   "id": "bfe38cf4",
   "metadata": {},
   "outputs": [],
   "source": [
    "#https://auth.cloud.datastax.com/auth/realms/CloudUsers/login-actions/authenticate?client_id=auth-proxy&tab_id=Ahd63N4q89c\n",
    "# Here Platform for Cassandra DB like MariaDB"
   ]
  },
  {
   "cell_type": "code",
   "execution_count": 2,
   "id": "73f6ebe6",
   "metadata": {},
   "outputs": [
    {
     "name": "stdout",
     "output_type": "stream",
     "text": [
      "3.25.0\n"
     ]
    }
   ],
   "source": [
    "import cassandra\n",
    "print(cassandra.__version__)"
   ]
  },
  {
   "cell_type": "markdown",
   "id": "6b61705c",
   "metadata": {},
   "source": [
    "### Configuration"
   ]
  },
  {
   "cell_type": "code",
   "execution_count": 3,
   "id": "dd5c6c19",
   "metadata": {},
   "outputs": [
    {
     "name": "stdout",
     "output_type": "stream",
     "text": [
      "4.0.0.6816\n"
     ]
    }
   ],
   "source": [
    "from cassandra.cluster import Cluster\n",
    "from cassandra.auth import PlainTextAuthProvider\n",
    "\n",
    "cloud_config= {\n",
    "         'secure_connect_bundle': '/home/pradeep.k@zucisystems.com/workspace_working_Repo/NOSQL/secure-connect-test.zip'\n",
    "}\n",
    "auth_provider = PlainTextAuthProvider('QEFrSwfzrRcSaEvtgpKzRUIm', 'XjUwaFff-,ytTD.JK-WPc8WkYYAKr4AYAZmkZWt4n716vYPxk3w.xF1U5m7v7_XeE1v.Dyqj5U1W6IoDIOj4WBQiLF5eAc1+,BnaYv3AL4xk9n,l7howtraTejPwNfHD')\n",
    "cluster = Cluster(cloud=cloud_config, auth_provider=auth_provider)\n",
    "session = cluster.connect()\n",
    "\n",
    "result = session.execute(\"select release_version from system.local\")\n",
    "\n",
    "row = result.one()\n",
    "\n",
    "# print(row)\n",
    "if row:\n",
    "      print(row[0])\n",
    "else:\n",
    "      print(\"An error occurred.\")\n"
   ]
  },
  {
   "cell_type": "code",
   "execution_count": 4,
   "id": "0bd80313",
   "metadata": {},
   "outputs": [
    {
     "name": "stdout",
     "output_type": "stream",
     "text": [
      "Exception Occured while creating Keyspace :  Error from server: code=2100 [Unauthorized] message=\"Missing correct permission on test_keyspace.: Keyspace management is currently only supported at https://astra.datastax.com/org/69408cdd-adbb-4871-87f5-cd7af9bb635c/database/fec51bae-192f-4a8d-8064-b8a698f269d4\"\n"
     ]
    }
   ],
   "source": [
    "# Command to create keyspace in Cassandra\n",
    "try:\n",
    "    query = \"create keyspace test_keyspace with replication = {'class' : 'SimpleStrategy', 'replication_factor' : 3}\"\n",
    "    session.execute(query)\n",
    "    print(\"Keyspace Created Successfully !!\")\n",
    "except Exception as err:\n",
    "    print(\"Exception Occured while creating Keyspace : \",err)\n",
    "\n",
    "#Note: Keyspace like DataBase"
   ]
  },
  {
   "cell_type": "code",
   "execution_count": null,
   "id": "438d795d",
   "metadata": {},
   "outputs": [],
   "source": [
    "# Command to Alter the keyspace in Cassandra\n",
    "try:\n",
    "    query = \"alter keyspace employee_management with replication = {'class' : 'SimpleStrategy', 'replication_factor' : 2}\"\n",
    "    session.execute(query)\n",
    "    print(\"Keyspace Altered Successfully !!\")\n",
    "except Exception as err:\n",
    "    print(\"Exception Occured while altering Keyspace : \",err)"
   ]
  },
  {
   "cell_type": "code",
   "execution_count": null,
   "id": "4f9f5355",
   "metadata": {},
   "outputs": [],
   "source": [
    "# Command to Drop the keyspace in Cassandra\n",
    "try:\n",
    "    query = \"drop keyspace employee_management\"\n",
    "    session.execute(query)\n",
    "    print(\"Keyspace Dropped Successfully !!\")\n",
    "except Exception as err:\n",
    "    print(\"Exception Occured while dropping the Keyspace : \",err)"
   ]
  },
  {
   "cell_type": "code",
   "execution_count": 5,
   "id": "83936e05",
   "metadata": {},
   "outputs": [
    {
     "name": "stdout",
     "output_type": "stream",
     "text": [
      "Used test_keyspace Succesfully\n"
     ]
    }
   ],
   "source": [
    "# Command to Use the keyspace\n",
    "try:\n",
    "    query = \"use test_keyspace\"\n",
    "    session.execute(query)\n",
    "    print(\"Used test_keyspace Succesfully\")\n",
    "except Exception as err:\n",
    "    print(\"Exception Occured while creating Keyspace : \",err)"
   ]
  },
  {
   "cell_type": "code",
   "execution_count": null,
   "id": "1b1cab47",
   "metadata": {},
   "outputs": [],
   "source": []
  }
 ],
 "metadata": {
  "kernelspec": {
   "display_name": "Python 3 (ipykernel)",
   "language": "python",
   "name": "python3"
  },
  "language_info": {
   "codemirror_mode": {
    "name": "ipython",
    "version": 3
   },
   "file_extension": ".py",
   "mimetype": "text/x-python",
   "name": "python",
   "nbconvert_exporter": "python",
   "pygments_lexer": "ipython3",
   "version": "3.8.10"
  }
 },
 "nbformat": 4,
 "nbformat_minor": 5
}
